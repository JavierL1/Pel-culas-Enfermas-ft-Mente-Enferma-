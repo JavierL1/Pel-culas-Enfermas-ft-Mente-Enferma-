{
 "cells": [
  {
   "cell_type": "code",
   "execution_count": 1,
   "metadata": {
    "collapsed": true
   },
   "outputs": [],
   "source": [
    "import random\n",
    "random.seed(44)\n",
    "\n",
    "def randomMovie(nMovies, size):\n",
    "    indexes = range(nMovies)\n",
    "    movies = random.sample(indexes, size)\n",
    "    return movies\n",
    "\n",
    "def selectMovies(Movies, size):\n",
    "    selectedMovies = randomMovie(len(Movies), size)\n",
    "    for movie in selectedMovies:\n",
    "        print(Movies[movie])"
   ]
  },
  {
   "cell_type": "markdown",
   "metadata": {},
   "source": [
    "# Semana 1\n",
    "\n",
    "## Candidatos\n",
    "\n",
    "* ### No Country for Old Men (2007)\n",
    "* ### Birdman (2014)\n",
    "* ### Shaun of the Dead (2004)\n",
    "* ### Hot Fuzz (2007)\n",
    "* ### The Sound of Music (1965)"
   ]
  },
  {
   "cell_type": "code",
   "execution_count": 2,
   "metadata": {},
   "outputs": [
    {
     "name": "stdout",
     "output_type": "stream",
     "text": [
      "Hot Fuzz (2007)\n"
     ]
    }
   ],
   "source": [
    "Semana1 = [\"No Country for Old Men (2007)\", \n",
    "            \"Birdman (2014)\",\n",
    "            \"Shaun of the Dead (2004)\",\n",
    "            \"Hot Fuzz (2007)\",\n",
    "            \"The Sound of Music (1965)\"]\n",
    "\n",
    "selectMovies(Semana1, 1)"
   ]
  },
  {
   "cell_type": "markdown",
   "metadata": {},
   "source": [
    "## Seleccionada(s):\n",
    "\n",
    "* ### Hot Fuzz (2007)"
   ]
  },
  {
   "cell_type": "markdown",
   "metadata": {
    "collapsed": true
   },
   "source": [
    "# Semana 2\n",
    "\n",
    "## Candidatos\n",
    "\n",
    "* ### Big Fish (2003)\n",
    "* ### Sev7en (1995)\n",
    "* ### Hallowen (1978)\n",
    "* ### Sid and Nancy (1986)\n",
    "* ### Bonnie and Clyde (1967)\n",
    "* ### Natural Born Killers (1994)\n",
    "* ### Fantastic mr fox (2009)\n",
    "* ### 12 angry men (1957)\n",
    "* ### Kids (1995)"
   ]
  },
  {
   "cell_type": "code",
   "execution_count": 3,
   "metadata": {},
   "outputs": [
    {
     "name": "stdout",
     "output_type": "stream",
     "text": [
      "Kids (1995)\n",
      "Sev7en (1995)\n"
     ]
    }
   ],
   "source": [
    "Semana2 = [\"Big Fish (2003)\",\n",
    "            \"Sev7en (1995)\",\n",
    "            \"Hallowen (1978)\",\n",
    "            \"Sid and Nancy (1986)\",\n",
    "            \"Bonnie and Clyde (1967)\",\n",
    "            \"Natural Born Killers (1994)\",\n",
    "            \"Fantastic mr fox (2009)\",\n",
    "            \"12 angry men (1957)\",\n",
    "            \"Kids (1995)\"]\n",
    "\n",
    "selectMovies(Semana2, 2)"
   ]
  },
  {
   "cell_type": "markdown",
   "metadata": {},
   "source": [
    "## Seleccionada(s):\n",
    "\n",
    "* ### Kids (1995)\n",
    "* ### Sev7en (1995)"
   ]
  },
  {
   "cell_type": "code",
   "execution_count": null,
   "metadata": {
    "collapsed": true
   },
   "outputs": [],
   "source": []
  }
 ],
 "metadata": {
  "kernelspec": {
   "display_name": "Python 3",
   "language": "python",
   "name": "python3"
  },
  "language_info": {
   "codemirror_mode": {
    "name": "ipython",
    "version": 3
   },
   "file_extension": ".py",
   "mimetype": "text/x-python",
   "name": "python",
   "nbconvert_exporter": "python",
   "pygments_lexer": "ipython3",
   "version": "3.6.1"
  }
 },
 "nbformat": 4,
 "nbformat_minor": 2
}
